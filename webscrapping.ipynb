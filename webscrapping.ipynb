{
  "nbformat": 4,
  "nbformat_minor": 0,
  "metadata": {
    "colab": {
      "name": "webscrapping.ipynb",
      "provenance": [],
      "authorship_tag": "ABX9TyN4faUcK1Tyya1ECMO3RpnR",
      "include_colab_link": true
    },
    "kernelspec": {
      "name": "python3",
      "display_name": "Python 3"
    }
  },
  "cells": [
    {
      "cell_type": "markdown",
      "metadata": {
        "id": "view-in-github",
        "colab_type": "text"
      },
      "source": [
        "<a href=\"https://colab.research.google.com/github/ShivangeeSingh/artificial-inteligence/blob/master/webscrapping.ipynb\" target=\"_parent\"><img src=\"https://colab.research.google.com/assets/colab-badge.svg\" alt=\"Open In Colab\"/></a>"
      ]
    },
    {
      "cell_type": "code",
      "metadata": {
        "id": "s0vrw1VBYU_O",
        "colab_type": "code",
        "colab": {
          "base_uri": "https://localhost:8080/",
          "height": 672
        },
        "outputId": "9dbb5a88-1435-4fe4-9137-bef5c0a1363d"
      },
      "source": [
        "from urllib import request # for downloading data from url\n",
        "from bs4 import BeautifulSoup # for souping\n",
        "# pointing to url \n",
        "url='https://en.wikipedia.org/wiki/Machine_learning'\n",
        "url1='https://www.google.com/covid19/'\n",
        "\n",
        "htmldata=request.urlopen(url)\n",
        "#htmldata.read()  # it will download data in html format\n",
        "soupdata=BeautifulSoup(htmldata,'html5lib')\n",
        "#     html data , html parser ---\n",
        "#html parser is a collection of tags that can scrape data from particular tag like h1,html, p,a\n",
        "# now selecting a particular tag for data scrape\n",
        "atagdata=soupdata.findAll('p')\n",
        "#print(atagdata)\n",
        "# now converting data into string format from HTML format\n",
        "import time\n",
        "mydata=\"\"\n",
        "for i in atagdata:\n",
        "  mydata += i.text\n",
        "\n",
        "print(mydata)"
      ],
      "execution_count": 19,
      "outputs": [
        {
          "output_type": "stream",
          "text": [
            "Jump to ContentJump to Content\n",
            "                    \n",
            "                  \n",
            "                      General public health information\n",
            "                    Vox MediaWorld Health OrganizationCenters for Disease Control and PreventionCenters for Disease Control and Prevention\n",
            "                      Resources & activities for parents & families to\n",
            "                      make the coming days as educational and fun as possible.\n",
            "                    \n",
            "                      Tips and tricks to effectively work from home, from\n",
            "                      troubleshooting poor Wi-Fi to collaborating with\n",
            "                      coworkers.\n",
            "                    \n",
            "                      Videos to learn new coping techniques, from a 5-minute\n",
            "                      meditation to stress-relieving yoga.\n",
            "                    \n",
            "                      Turn your home into your personal gym with these exercises\n",
            "                      that require just a pair of dumbbells or no equipment at\n",
            "                      all.\n",
            "                    \n",
            "                      Join creators in their kitchens to chop, sauté, and cook\n",
            "                      up a feast with these videos made to accompany you during\n",
            "                      your own meal prep.\n",
            "                    \n",
            "                      Put fresh spins on non-perishable staples with these\n",
            "                      recipes.\n",
            "                    \n",
            "                Google.org is committing $50 million to the global COVID-19\n",
            "                response.\n",
            "              \n",
            "                    Part of that $50 million pledge is $5M in matching donations\n",
            "                    to the UN Foundation’s\n",
            "                    COVID-19 Solidarity Response Fund\n",
            "                    for the World Health Organization.\n",
            "                  We’ll match $2 for every $1 you donate.\n",
            "                    100% of your donation goes to the\n",
            "                    UN Foundation for\n",
            "                    the WHO\n",
            "                  \n"
          ],
          "name": "stdout"
        }
      ]
    },
    {
      "cell_type": "code",
      "metadata": {
        "id": "5yGEgw5CdI92",
        "colab_type": "code",
        "colab": {}
      },
      "source": [
        " "
      ],
      "execution_count": 0,
      "outputs": []
    }
  ]
}